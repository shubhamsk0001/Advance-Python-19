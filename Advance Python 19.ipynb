{
 "cells": [
  {
   "cell_type": "code",
   "execution_count": null,
   "id": "844df08b",
   "metadata": {},
   "outputs": [],
   "source": [
    "Q1. Define the relationship between a class and its instances. Is it a one-to-one or a one-to-many partnership, for\n",
    "example?"
   ]
  },
  {
   "cell_type": "code",
   "execution_count": null,
   "id": "7191b7f2",
   "metadata": {},
   "outputs": [],
   "source": [
    "Relationship between a class and its instances is a one to many partnership."
   ]
  },
  {
   "cell_type": "code",
   "execution_count": null,
   "id": "7fd12048",
   "metadata": {},
   "outputs": [],
   "source": [
    "Q2. What kind of data is held only in an instance?"
   ]
  },
  {
   "cell_type": "code",
   "execution_count": null,
   "id": "b184f59f",
   "metadata": {},
   "outputs": [],
   "source": [
    "Instance objects contains the Instance variables which are specific to that specific Instance object."
   ]
  },
  {
   "cell_type": "code",
   "execution_count": null,
   "id": "68f1d1ea",
   "metadata": {},
   "outputs": [],
   "source": [
    "Q3. What kind of knowledge is stored in a class?"
   ]
  },
  {
   "cell_type": "code",
   "execution_count": null,
   "id": "0fc2cc99",
   "metadata": {},
   "outputs": [],
   "source": [
    "Class creates a user-defined data structure, which holds its own data members and member functions, which can be accessed\n",
    "and used by creating an instance of that class. A class is like a blueprint for an object"
   ]
  },
  {
   "cell_type": "code",
   "execution_count": null,
   "id": "d0a3fc8b",
   "metadata": {},
   "outputs": [],
   "source": [
    "Q4. What exactly is a method, and how is it different from a regular function?"
   ]
  },
  {
   "cell_type": "code",
   "execution_count": null,
   "id": "b2667ac1",
   "metadata": {},
   "outputs": [],
   "source": [
    "The methods with a class can be used to access the insatnce variables of its instance. So,the object's state can be \n",
    "modified by its method. Function can't access the attributes of an instance of a class or can't modify the state of the\n",
    "object."
   ]
  },
  {
   "cell_type": "code",
   "execution_count": null,
   "id": "e6d7d090",
   "metadata": {},
   "outputs": [],
   "source": [
    "Q5. Is inheritance supported in Python, and if so, what is the syntax?"
   ]
  },
  {
   "cell_type": "code",
   "execution_count": null,
   "id": "38ecd7b9",
   "metadata": {},
   "outputs": [],
   "source": [
    "Yes,Python supports inheritance. The Types of Inheritence Supported by Python are:\n",
    "\n",
    "Simple Inheritence\n",
    "Multiple Inheritence\n",
    "Multilevel lInheritence\n",
    "Hybrid Inheritence\n",
    "Hierracial Inheritence"
   ]
  },
  {
   "cell_type": "code",
   "execution_count": 1,
   "id": "1d8e7e78",
   "metadata": {},
   "outputs": [],
   "source": [
    "class Person:\n",
    "    def __init__(self, fname, lname):\n",
    "        self.first_name = fname\n",
    "        self.last_name = lname\n",
    "class Student(Person):\n",
    "    pass"
   ]
  },
  {
   "cell_type": "code",
   "execution_count": null,
   "id": "01b46f2b",
   "metadata": {},
   "outputs": [],
   "source": [
    "Q6. How much encapsulation (making instance or class variables private) does Python support?"
   ]
  },
  {
   "cell_type": "code",
   "execution_count": null,
   "id": "a319c2eb",
   "metadata": {},
   "outputs": [],
   "source": [
    "Encapsulation describes the idea of wrapping data and the methods that work on data within one unit. This puts \n",
    "restrictions on accessing variables and methods directly and can prevent the accidental modification of data. To prevent\n",
    "accidental change, an objects variable can only be changed by an objects method."
   ]
  },
  {
   "cell_type": "code",
   "execution_count": null,
   "id": "dfb387d3",
   "metadata": {},
   "outputs": [],
   "source": [
    "Q7. How do you distinguish between a class variable and an instance variable?"
   ]
  },
  {
   "cell_type": "code",
   "execution_count": null,
   "id": "0ce2ba2f",
   "metadata": {},
   "outputs": [],
   "source": [
    "The Class Attribute is available to all the instance objects of that class. whereas Instance Attributes are accessible\n",
    "only to the object or Instance of that class.\n",
    "\n",
    "A single copy of Class attributes is maintained by pvm at the class level. Whereas difference copies of instance\n",
    "attributes are maintained by pvm at objects/instance level."
   ]
  },
  {
   "cell_type": "code",
   "execution_count": null,
   "id": "7414fd58",
   "metadata": {},
   "outputs": [],
   "source": [
    "Q8. When, if ever, can self be included in a class's method definitions?"
   ]
  },
  {
   "cell_type": "code",
   "execution_count": null,
   "id": "ec76f161",
   "metadata": {},
   "outputs": [],
   "source": [
    " Yes, self can included in class method definations to access the instance variables inside class methods."
   ]
  },
  {
   "cell_type": "code",
   "execution_count": null,
   "id": "225c5955",
   "metadata": {},
   "outputs": [],
   "source": [
    "Q9. What is the difference between the __add__ and the __radd__ methods ?"
   ]
  },
  {
   "cell_type": "code",
   "execution_count": null,
   "id": "230e77b1",
   "metadata": {},
   "outputs": [],
   "source": [
    "Entering __radd__ Python will first try __add__(), and if that returns Not Implemented Python will check if the right-hand \n",
    "operand implements __radd__, and if it does, it will call __radd__() rather than raising a TypeError."
   ]
  },
  {
   "cell_type": "code",
   "execution_count": null,
   "id": "e29ea7d8",
   "metadata": {},
   "outputs": [],
   "source": [
    "Q10. When is it necessary to use a reflection method? When do you not need it, even though you support the operation in\n",
    "question?"
   ]
  },
  {
   "cell_type": "code",
   "execution_count": null,
   "id": "62ed551e",
   "metadata": {},
   "outputs": [],
   "source": [
    "Reflection method we often encounter the requirement that a method in the executing object, or a variable in the calling\n",
    "object, or a field of the object should be assigned, while the method name or field name can not be determined when \n",
    "encoding the code, and need to be input in the form of passing strings through parameters."
   ]
  },
  {
   "cell_type": "code",
   "execution_count": null,
   "id": "5c5df228",
   "metadata": {},
   "outputs": [],
   "source": [
    "Q11. What is the __iadd__ method called?"
   ]
  },
  {
   "cell_type": "code",
   "execution_count": null,
   "id": "4c65022a",
   "metadata": {},
   "outputs": [],
   "source": [
    "__iadd__ method is called when we use implementation like a+=b which is a.__iadd__(b)"
   ]
  },
  {
   "cell_type": "code",
   "execution_count": null,
   "id": "6e4ff7c5",
   "metadata": {},
   "outputs": [],
   "source": [
    "Q12. Is the _ _init_ _ method inherited by subclasses? What do you do if you need to customize its behavior within a \n",
    "subclass ?"
   ]
  },
  {
   "cell_type": "code",
   "execution_count": null,
   "id": "3dc446a0",
   "metadata": {},
   "outputs": [],
   "source": [
    "Yes, __init__ method will be inherited by subclasses. if we want to customize its behaviour within a subclass we can use \n",
    "super() method."
   ]
  }
 ],
 "metadata": {
  "kernelspec": {
   "display_name": "Python 3 (ipykernel)",
   "language": "python",
   "name": "python3"
  },
  "language_info": {
   "codemirror_mode": {
    "name": "ipython",
    "version": 3
   },
   "file_extension": ".py",
   "mimetype": "text/x-python",
   "name": "python",
   "nbconvert_exporter": "python",
   "pygments_lexer": "ipython3",
   "version": "3.9.12"
  }
 },
 "nbformat": 4,
 "nbformat_minor": 5
}
